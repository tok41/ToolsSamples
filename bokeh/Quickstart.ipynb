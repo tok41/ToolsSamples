{
 "cells": [
  {
   "cell_type": "markdown",
   "metadata": {
    "toc-hr-collapsed": false
   },
   "source": [
    "# Quickstart\n",
    "- https://bokeh.pydata.org/en/latest/docs/user_guide/quickstart.html\n"
   ]
  },
  {
   "cell_type": "markdown",
   "metadata": {},
   "source": [
    "## Introduction\n",
    "- bokehは二つのレベルのインターフェースを備えている\n",
    "    - quickstartではbokeh.plottingを中心に\n",
    "- bokeh.models\n",
    "    - 低レベルのインターフェースだが、フレキシブルに使える\n",
    "- bokeh.plotting\n",
    "    - 高レベルのインターフェース。"
   ]
  },
  {
   "cell_type": "markdown",
   "metadata": {},
   "source": [
    "## Getting Started\n",
    "- シンプルなプロット\n",
    "    - python listをzoomなどのツールを含めて簡単にプロットできる\n",
    "    "
   ]
  },
  {
   "cell_type": "code",
   "execution_count": null,
   "metadata": {},
   "outputs": [],
   "source": [
    "from bokeh.plotting import figure, output_file, show\n",
    "\n",
    "# prepare some data\n",
    "x = [1, 2, 3, 4, 5]\n",
    "y = [6, 7, 2, 4, 5]\n",
    "\n",
    "# output to static HTML file\n",
    "output_file(\"lines.html\")\n",
    "\n",
    "# create a new plot with a title and axis labels\n",
    "p = figure(title=\"simple line example\", x_axis_label='x', y_axis_label='y')\n",
    "\n",
    "# add a line renderer with legend and line thickness\n",
    "p.line(x, y, legend=\"Temp.\", line_width=2)\n",
    "\n",
    "# show the results\n",
    "show(p)"
   ]
  },
  {
   "cell_type": "markdown",
   "metadata": {},
   "source": [
    "bokeh.plottingでのplotを作るための基本的なステップ。\n",
    "- Prepare some data\n",
    "    - データはNumpy　Arrayやpandasで用意したもの\n",
    "- Tell Bokeh where to generate output\n",
    "    - output_file(）APIでhtmlファイルを出力する設定になる。output_notebook()でjupyter notebookを出力できる\n",
    "- Call figure()\n",
    "    - figure() APIをcallするとfigureが生成され、titleやtoolなどのデフォルトが設定される。変更するのも簡単。\n",
    "- Add renderers\n",
    "    - In this case, we use line() for our data, specifying visual customizations like colors, legends and widths.\n",
    "- Ask Bokeh to show() or save() the results.\n",
    "    - show()　APIでHTML等の出力ファイルを生成する。また、オプショナルでブラウザに表示もする。\n",
    "\n",
    "step3と4(call figure, add renderer)を繰り返すことで、一つ以上のグラフを描ける。"
   ]
  },
  {
   "cell_type": "code",
   "execution_count": null,
   "metadata": {},
   "outputs": [],
   "source": [
    "# prepare some data\n",
    "x = [0.1, 0.5, 1.0, 1.5, 2.0, 2.5, 3.0]\n",
    "y0 = [i**2 for i in x]\n",
    "y1 = [10**i for i in x]\n",
    "y2 = [10**(i**2) for i in x]\n",
    "\n",
    "# output to static HTML file\n",
    "output_file(\"log_lines.html\")\n",
    "\n",
    "# create a new plot\n",
    "p = figure(\n",
    "    tools=\"pan,box_zoom,reset,save\",\n",
    "    y_axis_type=\"log\", y_range=[0.001, 10**11], \n",
    "    title=\"log axis example\",\n",
    "    x_axis_label='sections', y_axis_label='particles'\n",
    ")\n",
    "\n",
    "# add some renderers\n",
    "p.line(x, x, legend=\"y=x\")\n",
    "p.circle(x, x, legend=\"y=x\", fill_color=\"white\", size=8)\n",
    "p.line(x, y0, legend=\"y=x^2\", line_width=3)\n",
    "p.line(x, y1, legend=\"y=10^x\", line_color=\"red\")\n",
    "p.circle(x, y1, legend=\"y=10^x\", fill_color=\"red\", line_color=\"red\", size=6)\n",
    "p.line(x, y2, legend=\"y=10^x^2\", line_color=\"orange\", line_dash=\"4 4\")\n",
    "\n",
    "# show the results\n",
    "show(p)"
   ]
  },
  {
   "cell_type": "markdown",
   "metadata": {},
   "source": [
    "## jupyter notebook"
   ]
  },
  {
   "cell_type": "code",
   "execution_count": null,
   "metadata": {},
   "outputs": [],
   "source": [
    "import numpy as np\n",
    "\n",
    "from bokeh.io import push_notebook, show, output_notebook\n",
    "from bokeh.plotting import figure\n",
    "\n",
    "output_notebook()"
   ]
  },
  {
   "cell_type": "code",
   "execution_count": null,
   "metadata": {},
   "outputs": [],
   "source": [
    "x = np.linspace(0, 2*np.pi, 2000)\n",
    "y = np.sin(x)\n",
    "\n",
    "p = figure(title=\"simple line example\", plot_height=300, plot_width=600, y_range=(-5,5))\n",
    "r = p.line(x, y, color=\"#2222aa\", line_width=3)"
   ]
  },
  {
   "cell_type": "code",
   "execution_count": null,
   "metadata": {},
   "outputs": [],
   "source": [
    "def update(f, w=1, A=1, phi=0):\n",
    "    if   f == \"sin\": func = np.sin\n",
    "    elif f == \"cos\": func = np.cos\n",
    "    elif f == \"tan\": func = np.tan\n",
    "    r.data_source.data['y'] = A * func(w * x + phi)\n",
    "    push_notebook()"
   ]
  },
  {
   "cell_type": "code",
   "execution_count": null,
   "metadata": {},
   "outputs": [],
   "source": [
    "show(p, notebook_handle=True)"
   ]
  },
  {
   "cell_type": "code",
   "execution_count": null,
   "metadata": {},
   "outputs": [],
   "source": [
    "# 関数選択用のポップアップが出ると思うんだけど。。。\n",
    "# from ipywidgets import interact\n",
    "# interact(update, f=[\"sin\", \"cos\", \"tan\"], w=(0,100), A=(1,5), phi=(0, 20, 0.1))"
   ]
  },
  {
   "cell_type": "markdown",
   "metadata": {},
   "source": [
    "## Concepts\n",
    "### Plot\n",
    "- Plotsは様々なオブジェクト(レンダラー、ツール等)のコンテナ\n",
    "- bokeh.plottingインターフェースは全てのオブジェクトを統合するFigureクラスを提供する。figure() APIで。\n",
    "\n",
    "### Glyphs\n",
    "- Glyphsは基本的なvisual mark。Lineなど\n",
    "- もっとも低レベルなbokeh.modelsインターフェースを使う場合、全てのBokehオブジェクトの管理をしないといけない\n",
    "- bokeh.plottingインターフェースを使えば、line() APIなどを使って簡単にオブジェクトを作れる\n",
    "\n",
    "- glyphの外観は、様々なgryph属性を持ったデータに直接紐づけられる。\n",
    "- xとyの位置属性など。\n",
    "- 位置だけでなく、LineProperty, FillProperty,TextPropertyなどの組み合わせで外観を制御する\n",
    "- これら全ての属性はベクトル化した値で指定できる\n",
    "\n",
    "### Guides and Annotations\n",
    "- bokeh plotにはgryphの他にもオブジェクトを配置できる。\n",
    "- **Guides** : 角度や距離を判断するのに役立つ支援ツール。目盛りやグリッドなど\n",
    "- **Annotation** : タイトルや軸のラベルなど\n",
    "\n",
    "### Ranges\n",
    "- Rangeはplotのデータ領域を指定する\n",
    "- リスト化タプルで指定できる\n",
    "\n",
    "### Resources\n",
    "- plotsを生成するために、BokehJSとCSSを読み込む必要がある。\n",
    "- output_file()のデフォルト挙動では、http://cdn.pydata.org　からJSをロードする。\n",
    "- staticなHTMLファイルを作るために、mode=\"inline\"オプションで内部にJSを組み込める\n"
   ]
  },
  {
   "cell_type": "markdown",
   "metadata": {},
   "source": [
    "## More examples"
   ]
  },
  {
   "cell_type": "markdown",
   "metadata": {},
   "source": [
    "### Vectorized colors and size\n",
    "- fill_colorやradiusのようなglyph属性のシーケンスを提供する方法を示す\n",
    "\n",
    "さらに以下のことをやっている\n",
    "- tool nameのリストを明示的に渡す\n",
    "- BokehJSをCDNを利用して取得する\n",
    "- x_range, y_rangeを明示的に指定\n",
    "- オブジェクトの線を消す(以下の例では、各円の縁を消す)\n",
    "- Numpy arrayを使ってデータを提供する"
   ]
  },
  {
   "cell_type": "code",
   "execution_count": null,
   "metadata": {},
   "outputs": [],
   "source": [
    "import numpy as np\n",
    "\n",
    "from bokeh.plotting import figure, output_file, show\n",
    "from bokeh.plotting import output_notebook\n",
    "\n",
    "# prepare some data\n",
    "N = 4000\n",
    "x = np.random.random(size=N) * 100\n",
    "y = np.random.random(size=N) * 100\n",
    "# attribute\n",
    "radii = np.random.random(size=N) * 1.5\n",
    "colors = [\n",
    "    \"#%02x%02x%02x\" % (int(r), int(g), 150) for r, g in zip(50+2*x, 30+2*y)\n",
    "]\n",
    "\n",
    "# output to static HTML file (with CDN resources)\n",
    "#output_file(\"color_scatter.html\", title=\"color_scatter.py example\", mode=\"cdn\")\n",
    "output_notebook()\n",
    "\n",
    "TOOLS = \"crosshair,pan,wheel_zoom,box_zoom,reset,box_select,lasso_select\"\n",
    "\n",
    "# create a new plot with the tools above, and explicit ranges\n",
    "p = figure(tools=TOOLS, x_range=(0, 100), y_range=(0, 100))\n",
    "\n",
    "# add a circle renderer with vectorized colors and sizes\n",
    "p.circle(x, y, radius=radii, fill_color=colors, fill_alpha=0.6, line_color=None)\n",
    "\n",
    "# show the results\n",
    "show(p)\n"
   ]
  },
  {
   "cell_type": "markdown",
   "metadata": {},
   "source": [
    "### Liked panning and brusing\n",
    "複数のplotを関連付ける方法は、bokehにおいては、plot間のコンポーネントを共有することで実現できる。\n",
    "以下の例では、あるplotのレンジを変更すると他のplotもupdateされる例を示す。\n",
    "\n",
    "Figureクラスのオブジェクトのx_range, y_rangeをそれぞれのオブジェクトに指定することで、共有となる。\n",
    "\n",
    "- figure()を複数回呼ぶことで複数のplotを作成\n",
    "- gridplot()を利用して、それぞれのplotをarrayにする\n",
    "- glyphをcircle,triangle,squareを使う\n",
    "- toolbarを隠す(toolbar_location=None)\n"
   ]
  },
  {
   "cell_type": "code",
   "execution_count": null,
   "metadata": {},
   "outputs": [],
   "source": [
    "import numpy as np\n",
    "\n",
    "from bokeh.layouts import gridplot\n",
    "from bokeh.plotting import figure, output_file, show, output_notebook\n",
    "\n",
    "# prepare some data\n",
    "N = 100\n",
    "x = np.linspace(0, 4*np.pi, N)\n",
    "y0 = np.sin(x)\n",
    "y1 = np.cos(x)\n",
    "y2 = np.sin(x) + np.cos(x)\n",
    "\n",
    "# output to static HTML file\n",
    "#output_file(\"linked_panning.html\")\n",
    "output_notebook()\n",
    "\n",
    "# create a new plot\n",
    "s1 = figure(width=250, plot_height=250, title=\"sin-curve\")\n",
    "s1.circle(x, y0, size=10, color=\"navy\", alpha=0.5)\n",
    "\n",
    "# NEW: create a new plot and share both ranges\n",
    "s2 = figure(width=250, height=250, x_range=s1.x_range, y_range=s1.y_range, title=\"cos-curve\")\n",
    "s2.triangle(x, y1, size=10, color=\"firebrick\", alpha=0.5)\n",
    "\n",
    "# NEW: create a new plot and share only one range\n",
    "# *** y軸は共有しない\n",
    "s3 = figure(width=250, height=250, x_range=s1.x_range, title=\"sin+cos-curve\")\n",
    "s3.square(x, y2, size=10, color=\"olive\", alpha=0.5)\n",
    "\n",
    "# NEW: put the subplots in a gridplot\n",
    "#p = gridplot([[s1, s2, s3]], toolbar_location=None)\n",
    "p = gridplot([[s1, s2, s3]])\n",
    "\n",
    "# show the results\n",
    "show(p)"
   ]
  },
  {
   "cell_type": "markdown",
   "metadata": {},
   "source": [
    "別のリンクの例。一つのplot上の選択で他のplotが更新される（同じ領域が選択される）。\n",
    "\n",
    "ColumnDataSourceにdictでデータを指定し、そのデータをデータソースとしてplotする。"
   ]
  },
  {
   "cell_type": "code",
   "execution_count": null,
   "metadata": {},
   "outputs": [],
   "source": [
    "import numpy as np\n",
    "from bokeh.plotting import *\n",
    "from bokeh.models import ColumnDataSource\n",
    "\n",
    "# prepare some date\n",
    "N = 300\n",
    "x = np.linspace(0, 4*np.pi, N)\n",
    "y0 = np.sin(x)\n",
    "y1 = np.cos(x)\n",
    "\n",
    "# output to static HTML file\n",
    "#output_file(\"linked_brushing.html\")\n",
    "output_notebook()\n",
    "\n",
    "# NEW: create a column data source for the plots to share\n",
    "source = ColumnDataSource(data=dict(x=x, y0=y0, y1=y1))\n",
    "\n",
    "TOOLS = \"pan,wheel_zoom,box_zoom,reset,save,box_select,lasso_select\"\n",
    "\n",
    "# create a new plot and add a renderer\n",
    "left = figure(tools=TOOLS, width=350, height=350, title=None)\n",
    "left.circle('x', 'y0', source=source)\n",
    "\n",
    "# create another new plot and add a renderer\n",
    "right = figure(tools=TOOLS, width=350, height=350, title=None)\n",
    "right.circle('x', 'y1', source=source)\n",
    "\n",
    "# put the subplots in a gridplot\n",
    "p = gridplot([[left, right]])\n",
    "\n",
    "# show the results\n",
    "show(p)"
   ]
  },
  {
   "cell_type": "markdown",
   "metadata": {},
   "source": [
    "### Datetime axes"
   ]
  },
  {
   "cell_type": "code",
   "execution_count": null,
   "metadata": {},
   "outputs": [],
   "source": []
  }
 ],
 "metadata": {
  "kernelspec": {
   "display_name": "Python 3",
   "language": "python",
   "name": "python3"
  },
  "language_info": {
   "codemirror_mode": {
    "name": "ipython",
    "version": 3
   },
   "file_extension": ".py",
   "mimetype": "text/x-python",
   "name": "python",
   "nbconvert_exporter": "python",
   "pygments_lexer": "ipython3",
   "version": "3.7.0"
  },
  "toc-autonumbering": true
 },
 "nbformat": 4,
 "nbformat_minor": 2
}
