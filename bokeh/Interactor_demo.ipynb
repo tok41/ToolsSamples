{
 "cells": [
  {
   "cell_type": "markdown",
   "metadata": {},
   "source": [
    "# Basic Interactor Demo\n",
    "- https://github.com/bokeh/bokeh/blob/0.13.0/examples/howto/notebook_comms/Jupyter%20Interactors.ipynb\n",
    "- jupyter lab を使ってインタラクティブな操作を実装するデモ\n",
    "    - 元のサンプルはjupyter notebookでの実装"
   ]
  },
  {
   "cell_type": "markdown",
   "metadata": {},
   "source": [
    "## Preparation\n",
    "- Jupyter WQidgetsを利用するので、以下のextensionを導入\n",
    "    - https://ipywidgets.readthedocs.io/en/latest/user_install.html#installing-the-jupyterlab-extension\n",
    "    ```\n",
    "    jupyter labextension install @jupyter-widgets/jupyterlab-manager\n",
    "    ```"
   ]
  },
  {
   "cell_type": "markdown",
   "metadata": {},
   "source": [
    "# Demo"
   ]
  },
  {
   "cell_type": "code",
   "execution_count": 1,
   "metadata": {},
   "outputs": [
    {
     "data": {
      "text/html": [
       "\n",
       "    <div class=\"bk-root\">\n",
       "        <a href=\"https://bokeh.pydata.org\" target=\"_blank\" class=\"bk-logo bk-logo-small bk-logo-notebook\"></a>\n",
       "        <span id=\"d97e3176-d951-4183-b447-741524028461\">Loading BokehJS ...</span>\n",
       "    </div>"
      ]
     },
     "metadata": {},
     "output_type": "display_data"
    },
    {
     "data": {
      "application/javascript": [
       "\n",
       "(function(root) {\n",
       "  function now() {\n",
       "    return new Date();\n",
       "  }\n",
       "\n",
       "  var force = true;\n",
       "\n",
       "  if (typeof (root._bokeh_onload_callbacks) === \"undefined\" || force === true) {\n",
       "    root._bokeh_onload_callbacks = [];\n",
       "    root._bokeh_is_loading = undefined;\n",
       "  }\n",
       "\n",
       "  var JS_MIME_TYPE = 'application/javascript';\n",
       "  var HTML_MIME_TYPE = 'text/html';\n",
       "  var EXEC_MIME_TYPE = 'application/vnd.bokehjs_exec.v0+json';\n",
       "  var CLASS_NAME = 'output_bokeh rendered_html';\n",
       "\n",
       "  /**\n",
       "   * Render data to the DOM node\n",
       "   */\n",
       "  function render(props, node) {\n",
       "    var script = document.createElement(\"script\");\n",
       "    node.appendChild(script);\n",
       "  }\n",
       "\n",
       "  /**\n",
       "   * Handle when an output is cleared or removed\n",
       "   */\n",
       "  function handleClearOutput(event, handle) {\n",
       "    var cell = handle.cell;\n",
       "\n",
       "    var id = cell.output_area._bokeh_element_id;\n",
       "    var server_id = cell.output_area._bokeh_server_id;\n",
       "    // Clean up Bokeh references\n",
       "    if (id != null && id in Bokeh.index) {\n",
       "      Bokeh.index[id].model.document.clear();\n",
       "      delete Bokeh.index[id];\n",
       "    }\n",
       "\n",
       "    if (server_id !== undefined) {\n",
       "      // Clean up Bokeh references\n",
       "      var cmd = \"from bokeh.io.state import curstate; print(curstate().uuid_to_server['\" + server_id + \"'].get_sessions()[0].document.roots[0]._id)\";\n",
       "      cell.notebook.kernel.execute(cmd, {\n",
       "        iopub: {\n",
       "          output: function(msg) {\n",
       "            var id = msg.content.text.trim();\n",
       "            if (id in Bokeh.index) {\n",
       "              Bokeh.index[id].model.document.clear();\n",
       "              delete Bokeh.index[id];\n",
       "            }\n",
       "          }\n",
       "        }\n",
       "      });\n",
       "      // Destroy server and session\n",
       "      var cmd = \"import bokeh.io.notebook as ion; ion.destroy_server('\" + server_id + \"')\";\n",
       "      cell.notebook.kernel.execute(cmd);\n",
       "    }\n",
       "  }\n",
       "\n",
       "  /**\n",
       "   * Handle when a new output is added\n",
       "   */\n",
       "  function handleAddOutput(event, handle) {\n",
       "    var output_area = handle.output_area;\n",
       "    var output = handle.output;\n",
       "\n",
       "    // limit handleAddOutput to display_data with EXEC_MIME_TYPE content only\n",
       "    if ((output.output_type != \"display_data\") || (!output.data.hasOwnProperty(EXEC_MIME_TYPE))) {\n",
       "      return\n",
       "    }\n",
       "\n",
       "    var toinsert = output_area.element.find(\".\" + CLASS_NAME.split(' ')[0]);\n",
       "\n",
       "    if (output.metadata[EXEC_MIME_TYPE][\"id\"] !== undefined) {\n",
       "      toinsert[toinsert.length - 1].firstChild.textContent = output.data[JS_MIME_TYPE];\n",
       "      // store reference to embed id on output_area\n",
       "      output_area._bokeh_element_id = output.metadata[EXEC_MIME_TYPE][\"id\"];\n",
       "    }\n",
       "    if (output.metadata[EXEC_MIME_TYPE][\"server_id\"] !== undefined) {\n",
       "      var bk_div = document.createElement(\"div\");\n",
       "      bk_div.innerHTML = output.data[HTML_MIME_TYPE];\n",
       "      var script_attrs = bk_div.children[0].attributes;\n",
       "      for (var i = 0; i < script_attrs.length; i++) {\n",
       "        toinsert[toinsert.length - 1].firstChild.setAttribute(script_attrs[i].name, script_attrs[i].value);\n",
       "      }\n",
       "      // store reference to server id on output_area\n",
       "      output_area._bokeh_server_id = output.metadata[EXEC_MIME_TYPE][\"server_id\"];\n",
       "    }\n",
       "  }\n",
       "\n",
       "  function register_renderer(events, OutputArea) {\n",
       "\n",
       "    function append_mime(data, metadata, element) {\n",
       "      // create a DOM node to render to\n",
       "      var toinsert = this.create_output_subarea(\n",
       "        metadata,\n",
       "        CLASS_NAME,\n",
       "        EXEC_MIME_TYPE\n",
       "      );\n",
       "      this.keyboard_manager.register_events(toinsert);\n",
       "      // Render to node\n",
       "      var props = {data: data, metadata: metadata[EXEC_MIME_TYPE]};\n",
       "      render(props, toinsert[toinsert.length - 1]);\n",
       "      element.append(toinsert);\n",
       "      return toinsert\n",
       "    }\n",
       "\n",
       "    /* Handle when an output is cleared or removed */\n",
       "    events.on('clear_output.CodeCell', handleClearOutput);\n",
       "    events.on('delete.Cell', handleClearOutput);\n",
       "\n",
       "    /* Handle when a new output is added */\n",
       "    events.on('output_added.OutputArea', handleAddOutput);\n",
       "\n",
       "    /**\n",
       "     * Register the mime type and append_mime function with output_area\n",
       "     */\n",
       "    OutputArea.prototype.register_mime_type(EXEC_MIME_TYPE, append_mime, {\n",
       "      /* Is output safe? */\n",
       "      safe: true,\n",
       "      /* Index of renderer in `output_area.display_order` */\n",
       "      index: 0\n",
       "    });\n",
       "  }\n",
       "\n",
       "  // register the mime type if in Jupyter Notebook environment and previously unregistered\n",
       "  if (root.Jupyter !== undefined) {\n",
       "    var events = require('base/js/events');\n",
       "    var OutputArea = require('notebook/js/outputarea').OutputArea;\n",
       "\n",
       "    if (OutputArea.prototype.mime_types().indexOf(EXEC_MIME_TYPE) == -1) {\n",
       "      register_renderer(events, OutputArea);\n",
       "    }\n",
       "  }\n",
       "\n",
       "  \n",
       "  if (typeof (root._bokeh_timeout) === \"undefined\" || force === true) {\n",
       "    root._bokeh_timeout = Date.now() + 5000;\n",
       "    root._bokeh_failed_load = false;\n",
       "  }\n",
       "\n",
       "  var NB_LOAD_WARNING = {'data': {'text/html':\n",
       "     \"<div style='background-color: #fdd'>\\n\"+\n",
       "     \"<p>\\n\"+\n",
       "     \"BokehJS does not appear to have successfully loaded. If loading BokehJS from CDN, this \\n\"+\n",
       "     \"may be due to a slow or bad network connection. Possible fixes:\\n\"+\n",
       "     \"</p>\\n\"+\n",
       "     \"<ul>\\n\"+\n",
       "     \"<li>re-rerun `output_notebook()` to attempt to load from CDN again, or</li>\\n\"+\n",
       "     \"<li>use INLINE resources instead, as so:</li>\\n\"+\n",
       "     \"</ul>\\n\"+\n",
       "     \"<code>\\n\"+\n",
       "     \"from bokeh.resources import INLINE\\n\"+\n",
       "     \"output_notebook(resources=INLINE)\\n\"+\n",
       "     \"</code>\\n\"+\n",
       "     \"</div>\"}};\n",
       "\n",
       "  function display_loaded() {\n",
       "    var el = document.getElementById(\"d97e3176-d951-4183-b447-741524028461\");\n",
       "    if (el != null) {\n",
       "      el.textContent = \"BokehJS is loading...\";\n",
       "    }\n",
       "    if (root.Bokeh !== undefined) {\n",
       "      if (el != null) {\n",
       "        el.textContent = \"BokehJS \" + root.Bokeh.version + \" successfully loaded.\";\n",
       "      }\n",
       "    } else if (Date.now() < root._bokeh_timeout) {\n",
       "      setTimeout(display_loaded, 100)\n",
       "    }\n",
       "  }\n",
       "\n",
       "\n",
       "  function run_callbacks() {\n",
       "    try {\n",
       "      root._bokeh_onload_callbacks.forEach(function(callback) { callback() });\n",
       "    }\n",
       "    finally {\n",
       "      delete root._bokeh_onload_callbacks\n",
       "    }\n",
       "    console.info(\"Bokeh: all callbacks have finished\");\n",
       "  }\n",
       "\n",
       "  function load_libs(js_urls, callback) {\n",
       "    root._bokeh_onload_callbacks.push(callback);\n",
       "    if (root._bokeh_is_loading > 0) {\n",
       "      console.log(\"Bokeh: BokehJS is being loaded, scheduling callback at\", now());\n",
       "      return null;\n",
       "    }\n",
       "    if (js_urls == null || js_urls.length === 0) {\n",
       "      run_callbacks();\n",
       "      return null;\n",
       "    }\n",
       "    console.log(\"Bokeh: BokehJS not loaded, scheduling load and callback at\", now());\n",
       "    root._bokeh_is_loading = js_urls.length;\n",
       "    for (var i = 0; i < js_urls.length; i++) {\n",
       "      var url = js_urls[i];\n",
       "      var s = document.createElement('script');\n",
       "      s.src = url;\n",
       "      s.async = false;\n",
       "      s.onreadystatechange = s.onload = function() {\n",
       "        root._bokeh_is_loading--;\n",
       "        if (root._bokeh_is_loading === 0) {\n",
       "          console.log(\"Bokeh: all BokehJS libraries loaded\");\n",
       "          run_callbacks()\n",
       "        }\n",
       "      };\n",
       "      s.onerror = function() {\n",
       "        console.warn(\"failed to load library \" + url);\n",
       "      };\n",
       "      console.log(\"Bokeh: injecting script tag for BokehJS library: \", url);\n",
       "      document.getElementsByTagName(\"head\")[0].appendChild(s);\n",
       "    }\n",
       "  };var element = document.getElementById(\"d97e3176-d951-4183-b447-741524028461\");\n",
       "  if (element == null) {\n",
       "    console.log(\"Bokeh: ERROR: autoload.js configured with elementid 'd97e3176-d951-4183-b447-741524028461' but no matching script tag was found. \")\n",
       "    return false;\n",
       "  }\n",
       "\n",
       "  var js_urls = [\"https://cdn.pydata.org/bokeh/release/bokeh-0.13.0.min.js\", \"https://cdn.pydata.org/bokeh/release/bokeh-widgets-0.13.0.min.js\", \"https://cdn.pydata.org/bokeh/release/bokeh-tables-0.13.0.min.js\", \"https://cdn.pydata.org/bokeh/release/bokeh-gl-0.13.0.min.js\"];\n",
       "\n",
       "  var inline_js = [\n",
       "    function(Bokeh) {\n",
       "      Bokeh.set_log_level(\"info\");\n",
       "    },\n",
       "    \n",
       "    function(Bokeh) {\n",
       "      \n",
       "    },\n",
       "    function(Bokeh) {\n",
       "      console.log(\"Bokeh: injecting CSS: https://cdn.pydata.org/bokeh/release/bokeh-0.13.0.min.css\");\n",
       "      Bokeh.embed.inject_css(\"https://cdn.pydata.org/bokeh/release/bokeh-0.13.0.min.css\");\n",
       "      console.log(\"Bokeh: injecting CSS: https://cdn.pydata.org/bokeh/release/bokeh-widgets-0.13.0.min.css\");\n",
       "      Bokeh.embed.inject_css(\"https://cdn.pydata.org/bokeh/release/bokeh-widgets-0.13.0.min.css\");\n",
       "      console.log(\"Bokeh: injecting CSS: https://cdn.pydata.org/bokeh/release/bokeh-tables-0.13.0.min.css\");\n",
       "      Bokeh.embed.inject_css(\"https://cdn.pydata.org/bokeh/release/bokeh-tables-0.13.0.min.css\");\n",
       "    }\n",
       "  ];\n",
       "\n",
       "  function run_inline_js() {\n",
       "    \n",
       "    if ((root.Bokeh !== undefined) || (force === true)) {\n",
       "      for (var i = 0; i < inline_js.length; i++) {\n",
       "        inline_js[i].call(root, root.Bokeh);\n",
       "      }if (force === true) {\n",
       "        display_loaded();\n",
       "      }} else if (Date.now() < root._bokeh_timeout) {\n",
       "      setTimeout(run_inline_js, 100);\n",
       "    } else if (!root._bokeh_failed_load) {\n",
       "      console.log(\"Bokeh: BokehJS failed to load within specified timeout.\");\n",
       "      root._bokeh_failed_load = true;\n",
       "    } else if (force !== true) {\n",
       "      var cell = $(document.getElementById(\"d97e3176-d951-4183-b447-741524028461\")).parents('.cell').data().cell;\n",
       "      cell.output_area.append_execute_result(NB_LOAD_WARNING)\n",
       "    }\n",
       "\n",
       "  }\n",
       "\n",
       "  if (root._bokeh_is_loading === 0) {\n",
       "    console.log(\"Bokeh: BokehJS loaded, going straight to plotting\");\n",
       "    run_inline_js();\n",
       "  } else {\n",
       "    load_libs(js_urls, function() {\n",
       "      console.log(\"Bokeh: BokehJS plotting callback run at\", now());\n",
       "      run_inline_js();\n",
       "    });\n",
       "  }\n",
       "}(window));"
      ],
      "application/vnd.bokehjs_load.v0+json": "\n(function(root) {\n  function now() {\n    return new Date();\n  }\n\n  var force = true;\n\n  if (typeof (root._bokeh_onload_callbacks) === \"undefined\" || force === true) {\n    root._bokeh_onload_callbacks = [];\n    root._bokeh_is_loading = undefined;\n  }\n\n  \n\n  \n  if (typeof (root._bokeh_timeout) === \"undefined\" || force === true) {\n    root._bokeh_timeout = Date.now() + 5000;\n    root._bokeh_failed_load = false;\n  }\n\n  var NB_LOAD_WARNING = {'data': {'text/html':\n     \"<div style='background-color: #fdd'>\\n\"+\n     \"<p>\\n\"+\n     \"BokehJS does not appear to have successfully loaded. If loading BokehJS from CDN, this \\n\"+\n     \"may be due to a slow or bad network connection. Possible fixes:\\n\"+\n     \"</p>\\n\"+\n     \"<ul>\\n\"+\n     \"<li>re-rerun `output_notebook()` to attempt to load from CDN again, or</li>\\n\"+\n     \"<li>use INLINE resources instead, as so:</li>\\n\"+\n     \"</ul>\\n\"+\n     \"<code>\\n\"+\n     \"from bokeh.resources import INLINE\\n\"+\n     \"output_notebook(resources=INLINE)\\n\"+\n     \"</code>\\n\"+\n     \"</div>\"}};\n\n  function display_loaded() {\n    var el = document.getElementById(\"d97e3176-d951-4183-b447-741524028461\");\n    if (el != null) {\n      el.textContent = \"BokehJS is loading...\";\n    }\n    if (root.Bokeh !== undefined) {\n      if (el != null) {\n        el.textContent = \"BokehJS \" + root.Bokeh.version + \" successfully loaded.\";\n      }\n    } else if (Date.now() < root._bokeh_timeout) {\n      setTimeout(display_loaded, 100)\n    }\n  }\n\n\n  function run_callbacks() {\n    try {\n      root._bokeh_onload_callbacks.forEach(function(callback) { callback() });\n    }\n    finally {\n      delete root._bokeh_onload_callbacks\n    }\n    console.info(\"Bokeh: all callbacks have finished\");\n  }\n\n  function load_libs(js_urls, callback) {\n    root._bokeh_onload_callbacks.push(callback);\n    if (root._bokeh_is_loading > 0) {\n      console.log(\"Bokeh: BokehJS is being loaded, scheduling callback at\", now());\n      return null;\n    }\n    if (js_urls == null || js_urls.length === 0) {\n      run_callbacks();\n      return null;\n    }\n    console.log(\"Bokeh: BokehJS not loaded, scheduling load and callback at\", now());\n    root._bokeh_is_loading = js_urls.length;\n    for (var i = 0; i < js_urls.length; i++) {\n      var url = js_urls[i];\n      var s = document.createElement('script');\n      s.src = url;\n      s.async = false;\n      s.onreadystatechange = s.onload = function() {\n        root._bokeh_is_loading--;\n        if (root._bokeh_is_loading === 0) {\n          console.log(\"Bokeh: all BokehJS libraries loaded\");\n          run_callbacks()\n        }\n      };\n      s.onerror = function() {\n        console.warn(\"failed to load library \" + url);\n      };\n      console.log(\"Bokeh: injecting script tag for BokehJS library: \", url);\n      document.getElementsByTagName(\"head\")[0].appendChild(s);\n    }\n  };var element = document.getElementById(\"d97e3176-d951-4183-b447-741524028461\");\n  if (element == null) {\n    console.log(\"Bokeh: ERROR: autoload.js configured with elementid 'd97e3176-d951-4183-b447-741524028461' but no matching script tag was found. \")\n    return false;\n  }\n\n  var js_urls = [\"https://cdn.pydata.org/bokeh/release/bokeh-0.13.0.min.js\", \"https://cdn.pydata.org/bokeh/release/bokeh-widgets-0.13.0.min.js\", \"https://cdn.pydata.org/bokeh/release/bokeh-tables-0.13.0.min.js\", \"https://cdn.pydata.org/bokeh/release/bokeh-gl-0.13.0.min.js\"];\n\n  var inline_js = [\n    function(Bokeh) {\n      Bokeh.set_log_level(\"info\");\n    },\n    \n    function(Bokeh) {\n      \n    },\n    function(Bokeh) {\n      console.log(\"Bokeh: injecting CSS: https://cdn.pydata.org/bokeh/release/bokeh-0.13.0.min.css\");\n      Bokeh.embed.inject_css(\"https://cdn.pydata.org/bokeh/release/bokeh-0.13.0.min.css\");\n      console.log(\"Bokeh: injecting CSS: https://cdn.pydata.org/bokeh/release/bokeh-widgets-0.13.0.min.css\");\n      Bokeh.embed.inject_css(\"https://cdn.pydata.org/bokeh/release/bokeh-widgets-0.13.0.min.css\");\n      console.log(\"Bokeh: injecting CSS: https://cdn.pydata.org/bokeh/release/bokeh-tables-0.13.0.min.css\");\n      Bokeh.embed.inject_css(\"https://cdn.pydata.org/bokeh/release/bokeh-tables-0.13.0.min.css\");\n    }\n  ];\n\n  function run_inline_js() {\n    \n    if ((root.Bokeh !== undefined) || (force === true)) {\n      for (var i = 0; i < inline_js.length; i++) {\n        inline_js[i].call(root, root.Bokeh);\n      }if (force === true) {\n        display_loaded();\n      }} else if (Date.now() < root._bokeh_timeout) {\n      setTimeout(run_inline_js, 100);\n    } else if (!root._bokeh_failed_load) {\n      console.log(\"Bokeh: BokehJS failed to load within specified timeout.\");\n      root._bokeh_failed_load = true;\n    } else if (force !== true) {\n      var cell = $(document.getElementById(\"d97e3176-d951-4183-b447-741524028461\")).parents('.cell').data().cell;\n      cell.output_area.append_execute_result(NB_LOAD_WARNING)\n    }\n\n  }\n\n  if (root._bokeh_is_loading === 0) {\n    console.log(\"Bokeh: BokehJS loaded, going straight to plotting\");\n    run_inline_js();\n  } else {\n    load_libs(js_urls, function() {\n      console.log(\"Bokeh: BokehJS plotting callback run at\", now());\n      run_inline_js();\n    });\n  }\n}(window));"
     },
     "metadata": {},
     "output_type": "display_data"
    }
   ],
   "source": [
    "from ipywidgets import interact\n",
    "import numpy as np\n",
    "\n",
    "from bokeh.io import push_notebook, show, output_notebook\n",
    "from bokeh.plotting import figure\n",
    "output_notebook()"
   ]
  },
  {
   "cell_type": "code",
   "execution_count": 2,
   "metadata": {},
   "outputs": [],
   "source": [
    "x = np.linspace(0, 2*np.pi, 2000)\n",
    "y = np.sin(x)"
   ]
  },
  {
   "cell_type": "code",
   "execution_count": 3,
   "metadata": {},
   "outputs": [],
   "source": [
    "p = figure(title=\"simple line example\", plot_height=300, plot_width=600, y_range=(-5,5))\n",
    "r = p.line(x, y, color=\"#2222aa\", line_width=3)"
   ]
  },
  {
   "cell_type": "code",
   "execution_count": 4,
   "metadata": {},
   "outputs": [],
   "source": [
    "def update(f, w=1, A=1, phi=0):\n",
    "    if   f == \"sin\": func = np.sin\n",
    "    elif f == \"cos\": func = np.cos\n",
    "    elif f == \"tan\": func = np.tan\n",
    "    r.data_source.data['y'] = A * func(w * x + phi)\n",
    "    push_notebook()"
   ]
  },
  {
   "cell_type": "code",
   "execution_count": 10,
   "metadata": {},
   "outputs": [
    {
     "data": {
      "text/html": [
       "\n",
       "\n",
       "\n",
       "\n",
       "\n",
       "\n",
       "  <div class=\"bk-root\" id=\"6182121c-6d5c-48f2-aa10-33a8a1e41c36\"></div>\n"
      ]
     },
     "metadata": {},
     "output_type": "display_data"
    },
    {
     "data": {
      "application/javascript": [
       "(function(root) {\n",
       "  function embed_document(root) {\n",
       "    \n",
       "  var docs_json = {\"804eb7cc-93ff-4576-b524-3b7baa3f6d90\":{\"roots\":{\"references\":[{\"attributes\":{\"line_color\":\"#2222aa\",\"line_width\":3,\"x\":{\"field\":\"x\"},\"y\":{\"field\":\"y\"}},\"id\":\"3f84e3b6-4575-4863-b8d2-d11c2e8ebc88\",\"type\":\"Line\"},{\"attributes\":{},\"id\":\"d172bd2d-3cdd-47e5-99f8-14f865ff6fa1\",\"type\":\"BasicTicker\"},{\"attributes\":{},\"id\":\"d32ade60-9b76-415b-be69-7100823390ad\",\"type\":\"Selection\"},{\"attributes\":{\"formatter\":{\"id\":\"f92c6710-2248-4ca4-9368-15b351c1581f\",\"type\":\"BasicTickFormatter\"},\"plot\":{\"id\":\"6978a9f8-4727-4d36-8f58-0aa59b8f8a96\",\"subtype\":\"Figure\",\"type\":\"Plot\"},\"ticker\":{\"id\":\"d172bd2d-3cdd-47e5-99f8-14f865ff6fa1\",\"type\":\"BasicTicker\"}},\"id\":\"468ac7f6-a561-4457-acc8-33538d5fa15c\",\"type\":\"LinearAxis\"},{\"attributes\":{\"below\":[{\"id\":\"be9077ac-d385-413b-80c7-f6a5c2f4d873\",\"type\":\"LinearAxis\"}],\"left\":[{\"id\":\"468ac7f6-a561-4457-acc8-33538d5fa15c\",\"type\":\"LinearAxis\"}],\"plot_height\":300,\"renderers\":[{\"id\":\"be9077ac-d385-413b-80c7-f6a5c2f4d873\",\"type\":\"LinearAxis\"},{\"id\":\"1303c808-a957-4635-810b-fc158c2b9056\",\"type\":\"Grid\"},{\"id\":\"468ac7f6-a561-4457-acc8-33538d5fa15c\",\"type\":\"LinearAxis\"},{\"id\":\"13db6546-e6a0-40ed-9502-3c556d3b6038\",\"type\":\"Grid\"},{\"id\":\"5d0588ca-a4cf-414b-a8ea-87b70749d908\",\"type\":\"BoxAnnotation\"},{\"id\":\"57d7b0c4-7e2e-4bd4-975d-87534297806a\",\"type\":\"GlyphRenderer\"}],\"title\":{\"id\":\"dd72b29e-7a63-4f1e-a25e-4449ffdbdabd\",\"type\":\"Title\"},\"toolbar\":{\"id\":\"290ad33f-2983-4750-aed8-3bc432988334\",\"type\":\"Toolbar\"},\"x_range\":{\"id\":\"dee3097f-5269-4c1d-a062-8820bf8a9082\",\"type\":\"DataRange1d\"},\"x_scale\":{\"id\":\"9c2be38f-b5e2-46ad-a5d1-a91bebae6a91\",\"type\":\"LinearScale\"},\"y_range\":{\"id\":\"76635657-82c2-4451-9826-04d4192d1a12\",\"type\":\"Range1d\"},\"y_scale\":{\"id\":\"5d1aad4a-ad30-49a1-8d9f-78b0dfdf19fe\",\"type\":\"LinearScale\"}},\"id\":\"6978a9f8-4727-4d36-8f58-0aa59b8f8a96\",\"subtype\":\"Figure\",\"type\":\"Plot\"},{\"attributes\":{\"dimension\":1,\"plot\":{\"id\":\"6978a9f8-4727-4d36-8f58-0aa59b8f8a96\",\"subtype\":\"Figure\",\"type\":\"Plot\"},\"ticker\":{\"id\":\"d172bd2d-3cdd-47e5-99f8-14f865ff6fa1\",\"type\":\"BasicTicker\"}},\"id\":\"13db6546-e6a0-40ed-9502-3c556d3b6038\",\"type\":\"Grid\"},{\"attributes\":{\"callback\":null,\"data\":{\"x\":{\"__ndarray__\":\"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\",\"dtype\":\"float64\",\"shape\":[2000]},\"y\":{\"__ndarray__\":\"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\",\"dtype\":\"float64\",\"shape\":[2000]}},\"selected\":{\"id\":\"d32ade60-9b76-415b-be69-7100823390ad\",\"type\":\"Selection\"},\"selection_policy\":{\"id\":\"ddf3103c-c2f0-429f-b0b1-1ea2f3a44939\",\"type\":\"UnionRenderers\"}},\"id\":\"df0b3357-7367-450a-ae3e-64ac1da2175d\",\"type\":\"ColumnDataSource\"},{\"attributes\":{\"data_source\":{\"id\":\"df0b3357-7367-450a-ae3e-64ac1da2175d\",\"type\":\"ColumnDataSource\"},\"glyph\":{\"id\":\"3f84e3b6-4575-4863-b8d2-d11c2e8ebc88\",\"type\":\"Line\"},\"hover_glyph\":null,\"muted_glyph\":null,\"nonselection_glyph\":{\"id\":\"8b34c713-fc3c-4dff-8bb4-9dbe81ca58a7\",\"type\":\"Line\"},\"selection_glyph\":null,\"view\":{\"id\":\"3cda7673-17f8-4c65-969e-63c7fefc9a44\",\"type\":\"CDSView\"}},\"id\":\"57d7b0c4-7e2e-4bd4-975d-87534297806a\",\"type\":\"GlyphRenderer\"},{\"attributes\":{},\"id\":\"9598f721-762a-40c9-a4fb-629c2f78b245\",\"type\":\"PanTool\"},{\"attributes\":{\"plot\":null,\"text\":\"simple line example\"},\"id\":\"dd72b29e-7a63-4f1e-a25e-4449ffdbdabd\",\"type\":\"Title\"},{\"attributes\":{\"source\":{\"id\":\"df0b3357-7367-450a-ae3e-64ac1da2175d\",\"type\":\"ColumnDataSource\"}},\"id\":\"3cda7673-17f8-4c65-969e-63c7fefc9a44\",\"type\":\"CDSView\"},{\"attributes\":{\"callback\":null},\"id\":\"dee3097f-5269-4c1d-a062-8820bf8a9082\",\"type\":\"DataRange1d\"},{\"attributes\":{},\"id\":\"ddf3103c-c2f0-429f-b0b1-1ea2f3a44939\",\"type\":\"UnionRenderers\"},{\"attributes\":{},\"id\":\"52a554e9-85eb-466f-b97e-530c1f5af2e4\",\"type\":\"WheelZoomTool\"},{\"attributes\":{\"active_drag\":\"auto\",\"active_inspect\":\"auto\",\"active_multi\":null,\"active_scroll\":\"auto\",\"active_tap\":\"auto\",\"tools\":[{\"id\":\"9598f721-762a-40c9-a4fb-629c2f78b245\",\"type\":\"PanTool\"},{\"id\":\"52a554e9-85eb-466f-b97e-530c1f5af2e4\",\"type\":\"WheelZoomTool\"},{\"id\":\"1810f95b-6e8c-4a09-8079-28310b2ebc51\",\"type\":\"BoxZoomTool\"},{\"id\":\"263d9305-2933-4928-bf23-dbe6ff9a6369\",\"type\":\"SaveTool\"},{\"id\":\"00efc099-fa47-4921-a708-5812b26ee106\",\"type\":\"ResetTool\"},{\"id\":\"6ae5868a-52d9-43f8-9dee-de6f23ee8fb2\",\"type\":\"HelpTool\"}]},\"id\":\"290ad33f-2983-4750-aed8-3bc432988334\",\"type\":\"Toolbar\"},{\"attributes\":{\"overlay\":{\"id\":\"5d0588ca-a4cf-414b-a8ea-87b70749d908\",\"type\":\"BoxAnnotation\"}},\"id\":\"1810f95b-6e8c-4a09-8079-28310b2ebc51\",\"type\":\"BoxZoomTool\"},{\"attributes\":{},\"id\":\"263d9305-2933-4928-bf23-dbe6ff9a6369\",\"type\":\"SaveTool\"},{\"attributes\":{},\"id\":\"9c2be38f-b5e2-46ad-a5d1-a91bebae6a91\",\"type\":\"LinearScale\"},{\"attributes\":{},\"id\":\"f92c6710-2248-4ca4-9368-15b351c1581f\",\"type\":\"BasicTickFormatter\"},{\"attributes\":{},\"id\":\"00efc099-fa47-4921-a708-5812b26ee106\",\"type\":\"ResetTool\"},{\"attributes\":{\"callback\":null,\"end\":5,\"start\":-5},\"id\":\"76635657-82c2-4451-9826-04d4192d1a12\",\"type\":\"Range1d\"},{\"attributes\":{\"line_alpha\":0.1,\"line_color\":\"#1f77b4\",\"line_width\":3,\"x\":{\"field\":\"x\"},\"y\":{\"field\":\"y\"}},\"id\":\"8b34c713-fc3c-4dff-8bb4-9dbe81ca58a7\",\"type\":\"Line\"},{\"attributes\":{},\"id\":\"6ae5868a-52d9-43f8-9dee-de6f23ee8fb2\",\"type\":\"HelpTool\"},{\"attributes\":{},\"id\":\"5d1aad4a-ad30-49a1-8d9f-78b0dfdf19fe\",\"type\":\"LinearScale\"},{\"attributes\":{\"bottom_units\":\"screen\",\"fill_alpha\":{\"value\":0.5},\"fill_color\":{\"value\":\"lightgrey\"},\"left_units\":\"screen\",\"level\":\"overlay\",\"line_alpha\":{\"value\":1.0},\"line_color\":{\"value\":\"black\"},\"line_dash\":[4,4],\"line_width\":{\"value\":2},\"plot\":null,\"render_mode\":\"css\",\"right_units\":\"screen\",\"top_units\":\"screen\"},\"id\":\"5d0588ca-a4cf-414b-a8ea-87b70749d908\",\"type\":\"BoxAnnotation\"},{\"attributes\":{\"formatter\":{\"id\":\"d3900197-7775-4456-b49c-8e4cd28097ca\",\"type\":\"BasicTickFormatter\"},\"plot\":{\"id\":\"6978a9f8-4727-4d36-8f58-0aa59b8f8a96\",\"subtype\":\"Figure\",\"type\":\"Plot\"},\"ticker\":{\"id\":\"3950e98e-7f27-4702-b67e-807ca0558d25\",\"type\":\"BasicTicker\"}},\"id\":\"be9077ac-d385-413b-80c7-f6a5c2f4d873\",\"type\":\"LinearAxis\"},{\"attributes\":{},\"id\":\"3950e98e-7f27-4702-b67e-807ca0558d25\",\"type\":\"BasicTicker\"},{\"attributes\":{},\"id\":\"d3900197-7775-4456-b49c-8e4cd28097ca\",\"type\":\"BasicTickFormatter\"},{\"attributes\":{\"plot\":{\"id\":\"6978a9f8-4727-4d36-8f58-0aa59b8f8a96\",\"subtype\":\"Figure\",\"type\":\"Plot\"},\"ticker\":{\"id\":\"3950e98e-7f27-4702-b67e-807ca0558d25\",\"type\":\"BasicTicker\"}},\"id\":\"1303c808-a957-4635-810b-fc158c2b9056\",\"type\":\"Grid\"}],\"root_ids\":[\"6978a9f8-4727-4d36-8f58-0aa59b8f8a96\"]},\"title\":\"Bokeh Application\",\"version\":\"0.13.0\"}};\n",
       "  var render_items = [{\"docid\":\"804eb7cc-93ff-4576-b524-3b7baa3f6d90\",\"notebook_comms_target\":\"cfb7b635-cbe0-41b3-8d32-6860225a44f8\",\"roots\":{\"6978a9f8-4727-4d36-8f58-0aa59b8f8a96\":\"6182121c-6d5c-48f2-aa10-33a8a1e41c36\"}}];\n",
       "  root.Bokeh.embed.embed_items_notebook(docs_json, render_items);\n",
       "\n",
       "  }\n",
       "  if (root.Bokeh !== undefined) {\n",
       "    embed_document(root);\n",
       "  } else {\n",
       "    var attempts = 0;\n",
       "    var timer = setInterval(function(root) {\n",
       "      if (root.Bokeh !== undefined) {\n",
       "        embed_document(root);\n",
       "        clearInterval(timer);\n",
       "      }\n",
       "      attempts++;\n",
       "      if (attempts > 100) {\n",
       "        console.log(\"Bokeh: ERROR: Unable to run BokehJS code because BokehJS library is missing\")\n",
       "        clearInterval(timer);\n",
       "      }\n",
       "    }, 10, root)\n",
       "  }\n",
       "})(window);"
      ],
      "application/vnd.bokehjs_exec.v0+json": ""
     },
     "metadata": {
      "application/vnd.bokehjs_exec.v0+json": {
       "id": "6978a9f8-4727-4d36-8f58-0aa59b8f8a96"
      }
     },
     "output_type": "display_data"
    },
    {
     "data": {
      "text/html": [
       "<p><code>&lt;Bokeh Notebook handle for <strong>In[10]</strong>&gt;</code></p>"
      ],
      "text/plain": [
       "<bokeh.io.notebook.CommsHandle at 0x113a59208>"
      ]
     },
     "execution_count": 10,
     "metadata": {},
     "output_type": "execute_result"
    }
   ],
   "source": [
    "show(p, notebook_handle=True)"
   ]
  },
  {
   "cell_type": "code",
   "execution_count": 6,
   "metadata": {},
   "outputs": [
    {
     "data": {
      "application/vnd.jupyter.widget-view+json": {
       "model_id": "2d3ebfafb71142bd854740327c663348",
       "version_major": 2,
       "version_minor": 0
      },
      "text/plain": [
       "interactive(children=(Dropdown(description='f', options=('sin', 'cos', 'tan'), value='sin'), IntSlider(value=1…"
      ]
     },
     "metadata": {},
     "output_type": "display_data"
    },
    {
     "data": {
      "text/plain": [
       "<function __main__.update(f, w=1, A=1, phi=0)>"
      ]
     },
     "execution_count": 6,
     "metadata": {},
     "output_type": "execute_result"
    }
   ],
   "source": [
    "interact(update, f=[\"sin\", \"cos\", \"tan\"], w=(0,100), A=(1,5), phi=(0, 20, 0.1))"
   ]
  },
  {
   "cell_type": "markdown",
   "metadata": {},
   "source": [
    "- 関数選択用のドロップダウンリスト、パラメータ設定用のスライダが現れる\n",
    "- これらを変更すると、Figureのパラメータが変化する\n",
    "    - showを再度しないとupdateされないのは仕様か？要調査"
   ]
  },
  {
   "cell_type": "code",
   "execution_count": null,
   "metadata": {},
   "outputs": [],
   "source": []
  }
 ],
 "metadata": {
  "kernelspec": {
   "display_name": "Python 3",
   "language": "python",
   "name": "python3"
  },
  "language_info": {
   "codemirror_mode": {
    "name": "ipython",
    "version": 3
   },
   "file_extension": ".py",
   "mimetype": "text/x-python",
   "name": "python",
   "nbconvert_exporter": "python",
   "pygments_lexer": "ipython3",
   "version": "3.7.0"
  }
 },
 "nbformat": 4,
 "nbformat_minor": 2
}
